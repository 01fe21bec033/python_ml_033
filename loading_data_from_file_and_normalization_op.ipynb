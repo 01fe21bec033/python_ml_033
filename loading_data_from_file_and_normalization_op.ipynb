{
  "nbformat": 4,
  "nbformat_minor": 0,
  "metadata": {
    "colab": {
      "provenance": []
    },
    "kernelspec": {
      "name": "python3",
      "display_name": "Python 3"
    },
    "language_info": {
      "name": "python"
    }
  },
  "cells": [
    {
      "cell_type": "code",
      "execution_count": null,
      "metadata": {
        "colab": {
          "base_uri": "https://localhost:8080/"
        },
        "id": "SXaoJochRAsY",
        "outputId": "a9b9b24c-6a3d-43ed-a692-9ed0f0be051c"
      },
      "outputs": [
        {
          "output_type": "stream",
          "name": "stdout",
          "text": [
            "tejas\n",
            "8\n",
            "1000\n"
          ]
        }
      ],
      "source": [
        "\"\"\"class bankAccount:\n",
        "    def __init__(self, name, id, amount):\n",
        "        self.name = name\n",
        "        self.id = id\n",
        "        self.amount = amount\n",
        "\n",
        "acc1 = bankAccount(\"tejas\", 8,1000)\n",
        "print(acc1.name)\n",
        "print(acc1.id)\n",
        "print(acc1.amount)\"\"\""
      ]
    },
    {
      "cell_type": "code",
      "source": [
        "\"\"\"import numpy as np\n",
        "import pandas as pd\n",
        "from sklearn.model_selection import train_test_split\n",
        "import torch\n",
        "import torch.nn as nn\n",
        "import torch.nn.functional as\n",
        "from torch .autograd import Variable\n",
        "\n",
        "import os\n",
        "print(os.listdir(\".../input\"))\n",
        "%time\n",
        "train=pd.read_csv('../input//content/drive/MyDrive/train.csv')\n",
        "test=pd.read_csv('../input//content/drive/MyDrive/test.csv')\n",
        "print(train.shape,test.shape)\n",
        "\n",
        "y=train['target'].values\n",
        "x=train.drop(['ID_code','target'],axis=1).values\n",
        "\n",
        "torch.manual_seed(1234)\n",
        "\n",
        "hl = 10\n",
        "lr = 0.01\n",
        "num_epoch = 100\n",
        "class net(nn.module):\"\"\"\n",
        "\n"
      ],
      "metadata": {
        "id": "1oFNeXBaRKxA"
      },
      "execution_count": null,
      "outputs": []
    },
    {
      "cell_type": "code",
      "source": [],
      "metadata": {
        "id": "VaskL8gunXaF"
      },
      "execution_count": null,
      "outputs": []
    },
    {
      "cell_type": "markdown",
      "source": [
        "# New section"
      ],
      "metadata": {
        "id": "Tk4Kg6ndQlwf"
      }
    },
    {
      "cell_type": "code",
      "source": [
        "import pandas as pd\n",
        "from sklearn.preprocessing import MinMaxScaler\n",
        "\n",
        "# Modify the file_path to point to your uploaded CSV file\n",
        "file_path = \"/content/sample_data/mnist_train_small.csv\"  # Adjust this to the actual file path in your Colab environment\n",
        "data = pd.read_csv(file_path)\n",
        "\n",
        "# Separate features and target variable (assuming the target variable is in the last column)\n",
        "features = data.iloc[:, :-1]  # Features are all columns except the last one\n",
        "target = data.iloc[:, -1]  # Target variable is the last column\n",
        "\n",
        "# Normalize features using Min-Max scaling\n",
        "scaler = MinMaxScaler()  # Create a MinMaxScaler object\n",
        "normalized_features = scaler.fit_transform(features)  # Normalize the features\n",
        "\n",
        "# Now, normalized_features contains the normalized feature values\n",
        "# You can use normalized_features and target for further machine learning operations"
      ],
      "metadata": {
        "id": "XXWlDwFwY7C9"
      },
      "execution_count": 3,
      "outputs": []
    },
    {
      "cell_type": "code",
      "source": [],
      "metadata": {
        "id": "Lbiih45aZTkp"
      },
      "execution_count": null,
      "outputs": []
    }
  ]
}