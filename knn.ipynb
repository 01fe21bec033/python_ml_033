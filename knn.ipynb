{
  "nbformat": 4,
  "nbformat_minor": 0,
  "metadata": {
    "colab": {
      "provenance": []
    },
    "kernelspec": {
      "name": "python3",
      "display_name": "Python 3"
    },
    "language_info": {
      "name": "python"
    }
  },
  "cells": [
    {
      "cell_type": "code",
      "execution_count": null,
      "metadata": {
        "id": "zUyS_LalYi-0"
      },
      "outputs": [],
      "source": [
        "import pandas as pd\n",
        "import numpy as np\n",
        "import matplotlib.pyplot as plt\n",
        "from sklearn.neighbors import KNeighborsRegressor\n",
        "from sklearn.metrics import mean_squared_error, r2_score\n",
        "\n",
        "# Load the dataset\n",
        "data = pd.read_csv('/content/sample_data/california_housing_test.csv')\n",
        "# Select an independent variable and the dependent variable\n",
        "X = data.loc[0:5, [\"housing_median_age\"]]\n",
        "y = data.loc[0:5, \"latitude\"]\n",
        "\n",
        "# Create a k-NN regression model\n",
        "k = 3  # Adjust the number of neighbors (k) as needed\n",
        "model = KNeighborsRegressor(n_neighbors=k)\n",
        "\n",
        "# Fit the model to the data\n",
        "model.fit(X, y)\n",
        "\n",
        "# Predict using the trained model\n",
        "y_pred = model.predict(X)\n",
        "\n",
        "# Calculate Mean Squared Error (MSE) and R-squared\n",
        "mse = mean_squared_error(y, y_pred)\n",
        "r_squared = r2_score(y, y_pred)\n",
        "\n",
        "print(\"Mean Squared Error (MSE):\", mse)\n",
        "print(\"R-squared (Coefficient of Determination):\", r_squared)\n",
        "\n",
        "# Create a scatter plot of actual vs. predicted values\n",
        "plt.scatter(X, y, color='blue', label='Actual')\n",
        "plt.scatter(X, y_pred, color='red', label='Predicted')\n",
        "plt.xlabel(\"Housing Median Age\")\n",
        "plt.ylabel(\"Latitude\")\n",
        "plt.title(\"k-NN Regression\")\n",
        "plt.legend()\n",
        "plt.show()"
      ]
    }
  ]
}