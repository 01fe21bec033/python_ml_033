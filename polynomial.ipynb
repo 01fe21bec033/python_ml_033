{
  "nbformat": 4,
  "nbformat_minor": 0,
  "metadata": {
    "colab": {
      "provenance": [],
      "toc_visible": true
    },
    "kernelspec": {
      "name": "python3",
      "display_name": "Python 3"
    },
    "language_info": {
      "name": "python"
    }
  },
  "cells": [
    {
      "cell_type": "code",
      "execution_count": null,
      "metadata": {
        "id": "lXtgpzG4XwQj"
      },
      "outputs": [],
      "source": [
        "import pandas as pd\n",
        "import numpy as np\n",
        "import matplotlib.pyplot as plt\n",
        "from sklearn.linear_model import LinearRegression\n",
        "from sklearn.preprocessing import PolynomialFeatures\n",
        "from sklearn.metrics import mean_squared_log_error, r2_score\n",
        "\n",
        "# Load the dataset\n",
        "data = pd.read_csv('/content/sample_data/california_housing_test.csv')\n",
        "# Select an independent variable and the dependent variable\n",
        "X = data.loc[0:5, [\"housing_median_age\"]]\n",
        "y = data.loc[0:5, \"latitude\"]\n",
        "\n",
        "# Create a polynomial regression model\n",
        "degree = 2  # Choose the degree of the polynomial (e.g., 2 for quadratic)\n",
        "poly = PolynomialFeatures(degree=degree)\n",
        "X_poly = poly.fit_transform(X)\n",
        "\n",
        "model = LinearRegression()\n",
        "\n",
        "# Fit the model to the polynomial features\n",
        "model.fit(X_poly, y)\n",
        "\n",
        "# Predict using the trained model\n",
        "y_pred = model.predict(X_poly)\n",
        "\n",
        "# Calculate Mean Squared Logarithmic Error (MSLE) and R-squared\n",
        "mse = mean_squared_log_error(y, y_pred)\n",
        "r_squared = r2_score(y, y_pred)\n",
        "\n",
        "print(\"Mean Squared Logarithmic Error (MSLE):\", mse)\n",
        "print(\"R-squared (Coefficient of Determination):\", r_squared)\n",
        "\n",
        "# Print model coefficients\n",
        "print(\"Intercept (b0):\", model.intercept_)\n",
        "print(\"Coefficients (b1, b2, ...):\", model.coef_)\n",
        "\n",
        "# Create a scatter plot of actual vs. predicted values\n",
        "plt.scatter(X, y, color='blue', label='Actual')\n",
        "plt.scatter(X, y_pred, color='red', label='Predicted')\n",
        "plt.xlabel(\"Housing Median Age\")\n",
        "plt.ylabel(\"Latitude\")\n",
        "plt.title(\"Polynomial Regression\")\n",
        "plt.legend()\n",
        "plt.show()"
      ]
    }
  ]
}